{
  "nbformat": 4,
  "nbformat_minor": 0,
  "metadata": {
    "colab": {
      "name": "Week 01-Quiz.ipynb",
      "version": "0.3.2",
      "provenance": [],
      "include_colab_link": true
    },
    "kernelspec": {
      "name": "python3",
      "display_name": "Python 3"
    }
  },
  "cells": [
    {
      "cell_type": "markdown",
      "metadata": {
        "id": "view-in-github",
        "colab_type": "text"
      },
      "source": [
        "<a href=\"https://colab.research.google.com/github/EmmaMS/web_python_01/blob/master/Week_01_Quiz.ipynb\" target=\"_parent\"><img src=\"https://colab.research.google.com/assets/colab-badge.svg\" alt=\"Open In Colab\"/></a>"
      ]
    },
    {
      "cell_type": "code",
      "metadata": {
        "id": "-9S-9sSuAJd6",
        "colab_type": "code",
        "colab": {}
      },
      "source": [
        ""
      ],
      "execution_count": 0,
      "outputs": []
    },
    {
      "cell_type": "markdown",
      "metadata": {
        "id": "pzKKfIFXAJ4-",
        "colab_type": "text"
      },
      "source": [
        ""
      ]
    },
    {
      "cell_type": "markdown",
      "metadata": {
        "id": "2Rr1rXGMAOmP",
        "colab_type": "text"
      },
      "source": [
        "# Week 01-Quiz\n",
        "1. The diagram for traditional programming had Rules and Data In, but what came out?\n",
        "\n",
        "\n",
        "> Answers\n",
        "\n",
        "2. The diagram for Machine Learning had Answers and Data In, but what came out?\n",
        "\n",
        "\n",
        "> Rules\n",
        "\n",
        "3. When I tell a computer what the data represents (i.e. this data is for walking, this data is for running), what is the process called?\n",
        "\n",
        "\n",
        "> Labelling the Data\n",
        "\n",
        "4. What is a Dense?\n",
        "\n",
        "\n",
        "> A layer of connected neurons\n",
        "\n",
        "5. What does a Loss Function do?\n",
        "\n",
        "\n",
        "> Measure how good the current 'guess' is\n",
        "\n",
        "6. What does the optimiser do?\n",
        "\n",
        "\n",
        "> Generate a new and improved guess\n",
        "\n",
        "7.What is Convergence?\n",
        "\n",
        "\n",
        "> The Process of getting very close to the correct answer\n",
        "\n",
        "8. What does model.fit do?\n",
        "\n",
        "\n",
        "> It trains the neural network to fit one set of values to another\n",
        "\n",
        "\n",
        "\n",
        "\n",
        "\n",
        "\n",
        "\n",
        "\n",
        "\n",
        "\n",
        "\n",
        "\n",
        "\n",
        "\n"
      ]
    }
  ]
}