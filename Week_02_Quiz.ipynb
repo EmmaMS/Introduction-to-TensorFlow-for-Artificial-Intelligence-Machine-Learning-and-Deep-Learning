{
  "nbformat": 4,
  "nbformat_minor": 0,
  "metadata": {
    "colab": {
      "name": "Week 02-Quiz.ipynb",
      "version": "0.3.2",
      "provenance": [],
      "include_colab_link": true
    },
    "kernelspec": {
      "name": "python3",
      "display_name": "Python 3"
    }
  },
  "cells": [
    {
      "cell_type": "markdown",
      "metadata": {
        "id": "view-in-github",
        "colab_type": "text"
      },
      "source": [
        "<a href=\"https://colab.research.google.com/github/EmmaMS/Introduction-to-TensorFlow-for-Artificial-Intelligence-Machine-Learning-and-Deep-Learning/blob/master/Week_02_Quiz.ipynb\" target=\"_parent\"><img src=\"https://colab.research.google.com/assets/colab-badge.svg\" alt=\"Open In Colab\"/></a>"
      ]
    },
    {
      "cell_type": "code",
      "metadata": {
        "id": "-9S-9sSuAJd6",
        "colab_type": "code",
        "colab": {}
      },
      "source": [
        ""
      ],
      "execution_count": 0,
      "outputs": []
    },
    {
      "cell_type": "markdown",
      "metadata": {
        "id": "pzKKfIFXAJ4-",
        "colab_type": "text"
      },
      "source": [
        ""
      ]
    },
    {
      "cell_type": "markdown",
      "metadata": {
        "id": "2Rr1rXGMAOmP",
        "colab_type": "text"
      },
      "source": [
        "# Week 02-Quiz\n",
        "1. What’s the name of the dataset of Fashion images used in this week’s code?\n",
        "\n",
        "\n",
        "> Fashion MNIST\n",
        "\n",
        "2. What do the above mentioned Images look like?\n",
        "\n",
        "\n",
        "> 28x28 Greyscale\n",
        "\n",
        "3. How many images are in the Fashion MNIST dataset?\n",
        "\n",
        "> 70,000\n",
        "\n",
        "4. Why are there 10 output neurons?\n",
        "\n",
        "> There are 10 different labels\n",
        "\n",
        "\n",
        "5. What does Relu do?\n",
        "\n",
        "\n",
        "> It only returns x if x is greater than zero\n",
        "\n",
        "6. Why do you split data into training and test sets?\n",
        "\n",
        "\n",
        "> To test a network with previously unseen data\n",
        "\n",
        "7. What method gets called when an epoch finishes?\n",
        "\n",
        "> on_epoch_end\n",
        "\n",
        "8. What parameter to you set in your fit function to tell it to use callbacks?\n",
        "\n",
        "\n",
        "> callbacks=\n",
        "\n",
        "\n",
        "\n",
        "\n",
        "\n",
        "\n",
        "\n",
        "\n",
        "\n",
        "\n",
        "\n",
        "\n",
        "\n",
        "\n"
      ]
    }
  ]
}