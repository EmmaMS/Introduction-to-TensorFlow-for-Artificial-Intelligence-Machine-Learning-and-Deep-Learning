{
  "nbformat": 4,
  "nbformat_minor": 0,
  "metadata": {
    "colab": {
      "name": "Week 03-Quiz.ipynb",
      "version": "0.3.2",
      "provenance": [],
      "include_colab_link": true
    },
    "kernelspec": {
      "name": "python3",
      "display_name": "Python 3"
    }
  },
  "cells": [
    {
      "cell_type": "markdown",
      "metadata": {
        "id": "view-in-github",
        "colab_type": "text"
      },
      "source": [
        "<a href=\"https://colab.research.google.com/github/EmmaMS/Introduction-to-TensorFlow-for-Artificial-Intelligence-Machine-Learning-and-Deep-Learning/blob/master/Week_03_Quiz.ipynb\" target=\"_parent\"><img src=\"https://colab.research.google.com/assets/colab-badge.svg\" alt=\"Open In Colab\"/></a>"
      ]
    },
    {
      "cell_type": "code",
      "metadata": {
        "id": "-9S-9sSuAJd6",
        "colab_type": "code",
        "colab": {}
      },
      "source": [
        ""
      ],
      "execution_count": 0,
      "outputs": []
    },
    {
      "cell_type": "markdown",
      "metadata": {
        "id": "pzKKfIFXAJ4-",
        "colab_type": "text"
      },
      "source": [
        ""
      ]
    },
    {
      "cell_type": "markdown",
      "metadata": {
        "id": "2Rr1rXGMAOmP",
        "colab_type": "text"
      },
      "source": [
        "# Week 03-Quiz\n",
        "1. What is a Convolution?\n",
        "\n",
        "> A technique to isolate features in images\n",
        "\n",
        "2. What is a Pooling?\n",
        "\n",
        "> A technique to reduce the information in an image while maintaining features\n",
        "\n",
        "3. How do Convolutions improve image recognition?\n",
        "\n",
        "  They isolate features in images\n",
        "\n",
        "4. After passing a 3x3 filter over a 28x28 image, how big will the output be?\n",
        "\n",
        "> 26 x 26\n",
        "\n",
        "\n",
        "5. After max pooling a 26x26 image with a 2x2 filter, how big will the output be?\n",
        "\n",
        "\n",
        "> 13 x 13\n",
        "\n",
        "6. Applying Convolutions on top of our Deep neural network will make training:\n",
        "\n",
        "\n",
        "> It depends on many factors. It might make your training faster or slower, and a porrly designed Convolutional layer may even be less efficient than a pain DNN!\n"
      ]
    }
  ]
}